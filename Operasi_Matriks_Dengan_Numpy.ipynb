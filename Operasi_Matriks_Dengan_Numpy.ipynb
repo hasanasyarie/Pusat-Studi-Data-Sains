{
  "nbformat": 4,
  "nbformat_minor": 0,
  "metadata": {
    "colab": {
      "name": "Operasi Matriks Dengan Numpy.ipynb",
      "provenance": [],
      "collapsed_sections": [],
      "toc_visible": true,
      "include_colab_link": true
    },
    "kernelspec": {
      "name": "python3",
      "display_name": "Python 3"
    }
  },
  "cells": [
    {
      "cell_type": "markdown",
      "metadata": {
        "id": "view-in-github",
        "colab_type": "text"
      },
      "source": [
        "<a href=\"https://colab.research.google.com/github/hasanasyarie/Pusat-Studi-Data-Sains/blob/main/Operasi_Matriks_Dengan_Numpy.ipynb\" target=\"_parent\"><img src=\"https://colab.research.google.com/assets/colab-badge.svg\" alt=\"Open In Colab\"/></a>"
      ]
    },
    {
      "cell_type": "markdown",
      "metadata": {
        "id": "fbRs0mDa7N7u"
      },
      "source": [
        "![alt text](https://drive.google.com/uc?id=1ldpGy3nlYboBwG6uJAyd6IvO3DqQfWF7\n",
        ")"
      ]
    },
    {
      "cell_type": "markdown",
      "metadata": {
        "id": "Do9qqKm3NbF4"
      },
      "source": [
        "# **Array dan Operasinya**\n",
        "\n"
      ]
    },
    {
      "cell_type": "markdown",
      "metadata": {
        "id": "-2fE_LdUk8qa"
      },
      "source": [
        "**List sebagai Array**"
      ]
    },
    {
      "cell_type": "markdown",
      "metadata": {
        "id": "JzYxWFT_iZXS"
      },
      "source": [
        "Sebagai catatan penting adalah Python tidak memiliki dukungan bawaan untuk Array, tetapi List Python dapat digunakan sebagai gantinya.\n",
        "\n",
        "Kita menggunakan konsep **list** sebagai **array**, untuk bekerja dengan array pada Python kita memerlukan untuk mengimpor library numpy."
      ]
    },
    {
      "cell_type": "code",
      "metadata": {
        "id": "LDyzZ_Lm8HFY"
      },
      "source": [
        "import numpy as np"
      ],
      "execution_count": 1,
      "outputs": []
    },
    {
      "cell_type": "markdown",
      "metadata": {
        "id": "bge8uRsFjQbd"
      },
      "source": [
        "Contoh: Membuat array berisi nama-nama buah:"
      ]
    },
    {
      "cell_type": "code",
      "metadata": {
        "id": "e4ASjbmGjVLj",
        "colab": {
          "base_uri": "https://localhost:8080/"
        },
        "outputId": "c590dc84-ef87-48a5-d5ec-680976ce1345"
      },
      "source": [
        "buah=['nangka', 'manggis', 'ceplukan', 'mengkudu']\n",
        "buah"
      ],
      "execution_count": 2,
      "outputs": [
        {
          "output_type": "execute_result",
          "data": {
            "text/plain": [
              "['nangka', 'manggis', 'ceplukan', 'mengkudu']"
            ]
          },
          "metadata": {
            "tags": []
          },
          "execution_count": 2
        }
      ]
    },
    {
      "cell_type": "markdown",
      "metadata": {
        "id": "m88wYgC7jMgG"
      },
      "source": [
        "Array merupakan sebuah variabel yang menyimpan lebih dari 1 buah data yang memiliki tipe data yang sama. Jadi dapat dikatakan bahwa array merupakan kumpulan dari data-data tunggal yang dijadikan dalam 1 variabel array yang alamat memorinya berbeda yang selanjutnya disebut elemen-elemen array yang bisa kita akses berdasarkan indeks."
      ]
    },
    {
      "cell_type": "markdown",
      "metadata": {
        "id": "BzA9a3X7j-aS"
      },
      "source": [
        "Sebagai contoh, jika kita memiliki list nama-nama buah sebagai contohnya kita dapat menyimpan nama-nama tersebut dalam variabel tunggal, maka akan terlihat seperti ini: "
      ]
    },
    {
      "cell_type": "code",
      "metadata": {
        "id": "s9c9JK3jjHw4"
      },
      "source": [
        "buah1= \"nangka\"\n",
        "buah2= \"manggis\"\n",
        "buah3= \"ceplukan\""
      ],
      "execution_count": 4,
      "outputs": []
    },
    {
      "cell_type": "markdown",
      "metadata": {
        "id": "WV6wo5Z7knfM"
      },
      "source": [
        "Lau, bagaimana jika kita ingin menyimpan nama-nama buah yang sangat banya, 3000 misalnya.\n",
        "\n",
        "Solusinya adalah array\n"
      ]
    },
    {
      "cell_type": "markdown",
      "metadata": {
        "id": "w5qqTlEJlBZr"
      },
      "source": [
        "**Mengakses elemen suatu Array**"
      ]
    },
    {
      "cell_type": "markdown",
      "metadata": {
        "id": "FcLwhjxMlJAI"
      },
      "source": [
        "Python mengenal slicing operator [ ] yang dapat melakukan ekstraksi sebuah item atau beberapa item yang berada dalam range tertentu pada suatu array. Beberapa tipe urutan juga mendukung \"extended slicing\" dengan parameter ketiga berupa \"step\".\n",
        "\n",
        "* x[0] artinya mengambil elemen paling awal, dengan  index 0 dari array x.\n",
        "\n",
        "* x[5] artinya mengambil elemen dengan index 5 dari array x.\n",
        "\n",
        "* x[-1] artinya mengambil elemen dengan index paling belakang ke-1 dari array x.\n",
        "\n",
        "* x[3:5] artinya membuat array dari anggota elemen array x dengan index 3 hingga sebelum index 5 (tidak termasuk elemen dengan index 5, dalam hal ini hanya index 3-4).\n",
        "\n",
        "* x[:5] artinya membuat array dari anggota elemen array x paling awal hingga sebelum index 5 (tidak termasuk elemen dengan index 5, dalam hal ini hanya index 0-4).\n",
        "\n",
        "* x[-3:] artinya membuat array dari anggota elemen array x mulai index ke-3 dari belakang hingga paling belakang.\n",
        "\n",
        "* x[1:7:2] artinya membuat array dari anggota elemen array x dengan index 1 hingga sebelum index 7, dengan \"step\" 2 (dalam hal ini hanya index 1, 3, 5).\n",
        "\n"
      ]
    },
    {
      "cell_type": "code",
      "metadata": {
        "id": "d3uKlDLLlsaY",
        "colab": {
          "base_uri": "https://localhost:8080/"
        },
        "outputId": "a2d941f7-aa24-4d77-81e2-e50c228db01e"
      },
      "source": [
        "x = [5,10,15,20,25,30,35,40]\n",
        "print(x[5])\n",
        "print(x[-1])\n",
        "print(x[3:5])\n",
        "print(x[:5])\n",
        "print(x[-3:])\n",
        "print(x[1:7:2])"
      ],
      "execution_count": 5,
      "outputs": [
        {
          "output_type": "stream",
          "text": [
            "30\n",
            "40\n",
            "[20, 25]\n",
            "[5, 10, 15, 20, 25]\n",
            "[30, 35, 40]\n",
            "[10, 20, 30]\n"
          ],
          "name": "stdout"
        }
      ]
    },
    {
      "cell_type": "markdown",
      "metadata": {
        "id": "OZKf3vW5mH0K"
      },
      "source": [
        "**Panjang dan dimensi Array**"
      ]
    },
    {
      "cell_type": "markdown",
      "metadata": {
        "id": "DR9MZBGBmLrg"
      },
      "source": [
        "Gunakan metode len () untuk menentukan panjang array (jumlah elemen dalam array)."
      ]
    },
    {
      "cell_type": "code",
      "metadata": {
        "id": "sIx3CPt6mUDI",
        "colab": {
          "base_uri": "https://localhost:8080/"
        },
        "outputId": "232f2949-c335-454d-9b33-c9cf2213843d"
      },
      "source": [
        "x = len(buah)\n",
        "x"
      ],
      "execution_count": 6,
      "outputs": [
        {
          "output_type": "execute_result",
          "data": {
            "text/plain": [
              "4"
            ]
          },
          "metadata": {
            "tags": []
          },
          "execution_count": 6
        }
      ]
    },
    {
      "cell_type": "code",
      "metadata": {
        "id": "tyTrrgGGmkM0",
        "colab": {
          "base_uri": "https://localhost:8080/"
        },
        "outputId": "53747479-a0d2-45d7-b0e8-29ef0044ac64"
      },
      "source": [
        "y= np.shape(buah)\n",
        "y"
      ],
      "execution_count": 7,
      "outputs": [
        {
          "output_type": "execute_result",
          "data": {
            "text/plain": [
              "(4,)"
            ]
          },
          "metadata": {
            "tags": []
          },
          "execution_count": 7
        }
      ]
    },
    {
      "cell_type": "code",
      "metadata": {
        "id": "n97FwPMSmzfo",
        "colab": {
          "base_uri": "https://localhost:8080/"
        },
        "outputId": "578b989c-3d90-4ea5-a92b-81075244f66d"
      },
      "source": [
        "A = np.array([[1, 2, 3], [4, 5, 6]])\n",
        "u = np.shape(A)\n",
        "u"
      ],
      "execution_count": 8,
      "outputs": [
        {
          "output_type": "execute_result",
          "data": {
            "text/plain": [
              "(2, 3)"
            ]
          },
          "metadata": {
            "tags": []
          },
          "execution_count": 8
        }
      ]
    },
    {
      "cell_type": "markdown",
      "metadata": {
        "id": "VmMDFeBVecQE"
      },
      "source": [
        "**Array dengan Arrange**"
      ]
    },
    {
      "cell_type": "code",
      "metadata": {
        "id": "QnrDqwEkepjc",
        "colab": {
          "base_uri": "https://localhost:8080/"
        },
        "outputId": "2ab7696c-6664-4742-e1f2-18931354d39c"
      },
      "source": [
        "C=np.arange(1,11,1)\n",
        "C"
      ],
      "execution_count": 9,
      "outputs": [
        {
          "output_type": "execute_result",
          "data": {
            "text/plain": [
              "array([ 1,  2,  3,  4,  5,  6,  7,  8,  9, 10])"
            ]
          },
          "metadata": {
            "tags": []
          },
          "execution_count": 9
        }
      ]
    },
    {
      "cell_type": "markdown",
      "metadata": {
        "id": "yDYmiy_4miyL"
      },
      "source": [
        "**Perulangan pada Elemen Array**"
      ]
    },
    {
      "cell_type": "code",
      "metadata": {
        "id": "yzCpWJPsnO1X",
        "colab": {
          "base_uri": "https://localhost:8080/"
        },
        "outputId": "0871f7a1-f581-446c-bcce-264b255e8dec"
      },
      "source": [
        "for i in buah:\n",
        "  print(i)"
      ],
      "execution_count": null,
      "outputs": [
        {
          "output_type": "stream",
          "text": [
            "nangka\n",
            "manggis\n",
            "ceplukan\n",
            "mengkudu\n"
          ],
          "name": "stdout"
        }
      ]
    },
    {
      "cell_type": "markdown",
      "metadata": {
        "id": "bCbB16tlnV7k"
      },
      "source": [
        "**Menambah Elemen Array**"
      ]
    },
    {
      "cell_type": "markdown",
      "metadata": {
        "id": "Ykkq8_mDnZgf"
      },
      "source": [
        "Kita bisa menggunakan metode append() untuk menambahkan elemen ke array."
      ]
    },
    {
      "cell_type": "code",
      "metadata": {
        "id": "d0iMxMhJnfTe",
        "colab": {
          "base_uri": "https://localhost:8080/"
        },
        "outputId": "2baeecbf-e45f-426a-e70d-d8ab475435f1"
      },
      "source": [
        "buah.append(\"belimbing\")\n",
        "buah"
      ],
      "execution_count": null,
      "outputs": [
        {
          "output_type": "execute_result",
          "data": {
            "text/plain": [
              "['nangka', 'manggis', 'ceplukan', 'mengkudu', 'belimbing']"
            ]
          },
          "metadata": {
            "tags": []
          },
          "execution_count": 10
        }
      ]
    },
    {
      "cell_type": "markdown",
      "metadata": {
        "id": "oa1cgHpxnurX"
      },
      "source": [
        "**Menghapus Elemen Array**"
      ]
    },
    {
      "cell_type": "markdown",
      "metadata": {
        "id": "-Vb8ZyzWn06h"
      },
      "source": [
        "Anda bisa menggunakan metode pop() atau remove() untuk menghapus elemen dari array."
      ]
    },
    {
      "cell_type": "code",
      "metadata": {
        "id": "fkcEkRISn6Du",
        "colab": {
          "base_uri": "https://localhost:8080/"
        },
        "outputId": "ed2e0d64-122e-4c11-c63d-fbadb5e5c0fb"
      },
      "source": [
        "# Menghapus elemen kedua pada array buah\n",
        "# pop() menghapus berdasarkan indeks array\n",
        "buah.pop(1)\n",
        "buah"
      ],
      "execution_count": null,
      "outputs": [
        {
          "output_type": "execute_result",
          "data": {
            "text/plain": [
              "['nangka', 'ceplukan', 'mengkudu', 'belimbing']"
            ]
          },
          "metadata": {
            "tags": []
          },
          "execution_count": 11
        }
      ]
    },
    {
      "cell_type": "code",
      "metadata": {
        "id": "e-VVvGa1oOmZ",
        "colab": {
          "base_uri": "https://localhost:8080/"
        },
        "outputId": "689271d8-8d2a-4e62-87e7-6003d5ad10bc"
      },
      "source": [
        "# Menghapus elemen kedua pada array buah\n",
        "# remove() menghapus berdasarkan elemen array\n",
        "buah.remove('ceplukan')\n",
        "buah"
      ],
      "execution_count": null,
      "outputs": [
        {
          "output_type": "execute_result",
          "data": {
            "text/plain": [
              "['nangka', 'mengkudu', 'belimbing']"
            ]
          },
          "metadata": {
            "tags": []
          },
          "execution_count": 12
        }
      ]
    },
    {
      "cell_type": "markdown",
      "metadata": {
        "id": "gihvFdlUNtIi"
      },
      "source": [
        "**Build in methods terkait dengan array Python**"
      ]
    },
    {
      "cell_type": "markdown",
      "metadata": {
        "id": "Rj9cfhbzok65"
      },
      "source": [
        "| Method | Deskripsi|\n",
        "--- | --- |\n",
        "append()| Menambahkan elemen di akhir array\n",
        "clear() | Menghapus semua elemen dari array\n",
        "copy()  | Menghasilkan salinan array\n",
        "count() | Menghitung jumlah elemen dengan nilai yang ditentukan\n",
        "extend()| Tambahkan elemen daftar (atau iterable), di akhir list\n",
        "index() | Menghasilkan indeks elemen pertama dengan nilai yang ditentukan\n",
        "insert() |  Menambahkan elemen pada posisi yang ditentukan\n",
        "reverse() | Membalik urutan array\n",
        "sort()  | Mengurutkan array\n",
        "\n"
      ]
    },
    {
      "cell_type": "markdown",
      "metadata": {
        "id": "C6xLmGj27hRQ"
      },
      "source": [
        "# **Representasi Matriks Pada Python**"
      ]
    },
    {
      "cell_type": "markdown",
      "metadata": {
        "id": "rl5CYrqh72gg"
      },
      "source": [
        "Matriks adalah array 2 dimensi khusus yang mempertahankan sifat 2 dimensinnya melalui operasi. Matriks memiliki operator khusus tertentu, seperti perkalian matriks dan pemangkatan matriks.\n",
        "\n",
        "Untuk mendefinisikan suatu array dan menggunakan fungsi-fungsi operasi matriks, kita akan menggunakan modul numpy pada python. Pertama kita import numpy dengan alias np."
      ]
    },
    {
      "cell_type": "markdown",
      "metadata": {
        "id": "5VMq8Q44CttX"
      },
      "source": [
        "Berikut adalah beberapa penulisan python di berbagai platform:\n",
        "\n",
        "![alt text](https://drive.google.com/uc?id=1Vo7_qxBo3AGaKDtS1nym0Q-hq1Rxh2JH\n",
        ")\n",
        "\n"
      ]
    },
    {
      "cell_type": "markdown",
      "metadata": {
        "id": "1_pOFiJ6DO33"
      },
      "source": [
        "Berikut contoh penulisan matriks pada python:"
      ]
    },
    {
      "cell_type": "code",
      "metadata": {
        "id": "Xyk8tEnXDUJC",
        "colab": {
          "base_uri": "https://localhost:8080/"
        },
        "outputId": "6a9e7ba6-116a-4336-f74e-1020561ec4b0"
      },
      "source": [
        "A = np.array([[1, 2], [4, 5]])\n",
        "A"
      ],
      "execution_count": null,
      "outputs": [
        {
          "output_type": "execute_result",
          "data": {
            "text/plain": [
              "array([[1, 2],\n",
              "       [4, 5]])"
            ]
          },
          "metadata": {
            "tags": []
          },
          "execution_count": 13
        }
      ]
    },
    {
      "cell_type": "code",
      "metadata": {
        "id": "gVHi2PQzEhOF",
        "colab": {
          "base_uri": "https://localhost:8080/"
        },
        "outputId": "c3523377-52c3-4c70-bebb-6127275638bc"
      },
      "source": [
        "B = np.array([[1, 2, 3], [4, 5, 6], [7, 8, 9]])\n",
        "B"
      ],
      "execution_count": null,
      "outputs": [
        {
          "output_type": "execute_result",
          "data": {
            "text/plain": [
              "array([[1, 2, 3],\n",
              "       [4, 5, 6],\n",
              "       [7, 8, 9]])"
            ]
          },
          "metadata": {
            "tags": []
          },
          "execution_count": 14
        }
      ]
    },
    {
      "cell_type": "markdown",
      "metadata": {
        "id": "0d_TWaFN7pD-"
      },
      "source": [
        "# **Operasi Matriks Pada Python**"
      ]
    },
    {
      "cell_type": "code",
      "metadata": {
        "id": "Jd8AIwFJEo9J",
        "colab": {
          "base_uri": "https://localhost:8080/"
        },
        "outputId": "f775ad87-939f-4adc-dbb4-1572a8c7f718"
      },
      "source": [
        "P = np.array([[1, 2], [4, 5]])\n",
        "P"
      ],
      "execution_count": null,
      "outputs": [
        {
          "output_type": "execute_result",
          "data": {
            "text/plain": [
              "array([[1, 2],\n",
              "       [4, 5]])"
            ]
          },
          "metadata": {
            "tags": []
          },
          "execution_count": 15
        }
      ]
    },
    {
      "cell_type": "code",
      "metadata": {
        "id": "zjoWermWFDIe",
        "colab": {
          "base_uri": "https://localhost:8080/"
        },
        "outputId": "f0f5f397-9f3d-4e88-8d53-552eb91c186b"
      },
      "source": [
        "Q = np.array([[7, 8], [9, 10]])\n",
        "Q"
      ],
      "execution_count": null,
      "outputs": [
        {
          "output_type": "execute_result",
          "data": {
            "text/plain": [
              "array([[ 7,  8],\n",
              "       [ 9, 10]])"
            ]
          },
          "metadata": {
            "tags": []
          },
          "execution_count": 16
        }
      ]
    },
    {
      "cell_type": "code",
      "metadata": {
        "id": "-cK4ygYAFmnO",
        "colab": {
          "base_uri": "https://localhost:8080/"
        },
        "outputId": "9cfc672f-1fa5-493c-a690-7a7aefed4525"
      },
      "source": [
        "a=29\n",
        "a"
      ],
      "execution_count": null,
      "outputs": [
        {
          "output_type": "execute_result",
          "data": {
            "text/plain": [
              "29"
            ]
          },
          "metadata": {
            "tags": []
          },
          "execution_count": 17
        }
      ]
    },
    {
      "cell_type": "markdown",
      "metadata": {
        "id": "PM-ql5a8FFQW"
      },
      "source": [
        "**Penjumlahan Matriks**"
      ]
    },
    {
      "cell_type": "code",
      "metadata": {
        "id": "OAXVg4Z7FIgO",
        "colab": {
          "base_uri": "https://localhost:8080/"
        },
        "outputId": "2d879db7-9097-4561-83df-a4bce8014d34"
      },
      "source": [
        "np.add(P,Q)"
      ],
      "execution_count": null,
      "outputs": [
        {
          "output_type": "execute_result",
          "data": {
            "text/plain": [
              "array([[ 8, 10],\n",
              "       [13, 15]])"
            ]
          },
          "metadata": {
            "tags": []
          },
          "execution_count": 18
        }
      ]
    },
    {
      "cell_type": "markdown",
      "metadata": {
        "id": "wKyPNa0lFRoy"
      },
      "source": [
        "**Pengurangan Matriks**"
      ]
    },
    {
      "cell_type": "code",
      "metadata": {
        "id": "4yO5Z-DsFVRM",
        "colab": {
          "base_uri": "https://localhost:8080/"
        },
        "outputId": "1432ba49-ea1a-4f80-ca8a-c3511933f99a"
      },
      "source": [
        "np.subtract(P,Q)"
      ],
      "execution_count": null,
      "outputs": [
        {
          "output_type": "execute_result",
          "data": {
            "text/plain": [
              "array([[-6, -6],\n",
              "       [-5, -5]])"
            ]
          },
          "metadata": {
            "tags": []
          },
          "execution_count": 19
        }
      ]
    },
    {
      "cell_type": "markdown",
      "metadata": {
        "id": "zI3QA0znFgzA"
      },
      "source": [
        "**Perkalian Skalar Matriks**"
      ]
    },
    {
      "cell_type": "code",
      "metadata": {
        "id": "YonggKy8FtgY",
        "colab": {
          "base_uri": "https://localhost:8080/"
        },
        "outputId": "e6122acc-f953-426c-bc5e-5e1068543e98"
      },
      "source": [
        "a*P"
      ],
      "execution_count": null,
      "outputs": [
        {
          "output_type": "execute_result",
          "data": {
            "text/plain": [
              "array([[ 29,  58],\n",
              "       [116, 145]])"
            ]
          },
          "metadata": {
            "tags": []
          },
          "execution_count": 20
        }
      ]
    },
    {
      "cell_type": "markdown",
      "metadata": {
        "id": "d_xAIVF4FaSR"
      },
      "source": [
        "**Perkalian Matriks**"
      ]
    },
    {
      "cell_type": "code",
      "metadata": {
        "id": "iG5oTMt4Fz0B",
        "colab": {
          "base_uri": "https://localhost:8080/"
        },
        "outputId": "4e098f7c-3f3f-4717-bfd0-96d9ea49781b"
      },
      "source": [
        "np.multiply(P,Q)"
      ],
      "execution_count": null,
      "outputs": [
        {
          "output_type": "execute_result",
          "data": {
            "text/plain": [
              "array([[ 7, 16],\n",
              "       [36, 50]])"
            ]
          },
          "metadata": {
            "tags": []
          },
          "execution_count": 21
        }
      ]
    },
    {
      "cell_type": "markdown",
      "metadata": {
        "id": "9V9lcBDtF8-R"
      },
      "source": [
        "**Perkalian Titik Matriks (Dot Product)**"
      ]
    },
    {
      "cell_type": "code",
      "metadata": {
        "id": "o12kJct7GLew",
        "colab": {
          "base_uri": "https://localhost:8080/"
        },
        "outputId": "d12d60f1-7ebc-4b80-ed8a-23ef019949e8"
      },
      "source": [
        "np.dot(P,Q)"
      ],
      "execution_count": null,
      "outputs": [
        {
          "output_type": "execute_result",
          "data": {
            "text/plain": [
              "array([[25, 28],\n",
              "       [73, 82]])"
            ]
          },
          "metadata": {
            "tags": []
          },
          "execution_count": 22
        }
      ]
    },
    {
      "cell_type": "markdown",
      "metadata": {
        "id": "IZSzXLlgG2fn"
      },
      "source": [
        "**Transpose Matriks**"
      ]
    },
    {
      "cell_type": "code",
      "metadata": {
        "id": "HoCDbnfNGx-7",
        "colab": {
          "base_uri": "https://localhost:8080/"
        },
        "outputId": "160323d9-4ae3-480a-cf8e-c99516aacbaa"
      },
      "source": [
        "P.T"
      ],
      "execution_count": null,
      "outputs": [
        {
          "output_type": "execute_result",
          "data": {
            "text/plain": [
              "array([[1, 4],\n",
              "       [2, 5]])"
            ]
          },
          "metadata": {
            "tags": []
          },
          "execution_count": 23
        }
      ]
    },
    {
      "cell_type": "markdown",
      "metadata": {
        "id": "yKcYKwLAGoxH"
      },
      "source": [
        "**Operasi Fungsi Pada Setiap Elemen Matriks - Akar Kuadrat**"
      ]
    },
    {
      "cell_type": "code",
      "metadata": {
        "id": "IGXz3a5sGr6i",
        "colab": {
          "base_uri": "https://localhost:8080/"
        },
        "outputId": "bf9aab50-39e1-4725-845a-a33bbf3e633e"
      },
      "source": [
        "np.sqrt(P)"
      ],
      "execution_count": null,
      "outputs": [
        {
          "output_type": "execute_result",
          "data": {
            "text/plain": [
              "array([[1.        , 1.41421356],\n",
              "       [2.        , 2.23606798]])"
            ]
          },
          "metadata": {
            "tags": []
          },
          "execution_count": 24
        }
      ]
    },
    {
      "cell_type": "markdown",
      "metadata": {
        "id": "gPr8y8B5HhUb"
      },
      "source": [
        "**Menjumlahkan Semua Elemen Kolom Sebuah Matriks**"
      ]
    },
    {
      "cell_type": "code",
      "metadata": {
        "id": "XLmOIXsnHlkc",
        "colab": {
          "base_uri": "https://localhost:8080/"
        },
        "outputId": "6e045ab1-9d07-4404-c577-b2a07608dee4"
      },
      "source": [
        "np.sum(Q,axis=0)"
      ],
      "execution_count": null,
      "outputs": [
        {
          "output_type": "execute_result",
          "data": {
            "text/plain": [
              "array([16, 18])"
            ]
          },
          "metadata": {
            "tags": []
          },
          "execution_count": 25
        }
      ]
    },
    {
      "cell_type": "markdown",
      "metadata": {
        "id": "XSEwRsazHtDE"
      },
      "source": [
        "**Menjumlahkan Semua Elemen Baris Sebuah Matriks**"
      ]
    },
    {
      "cell_type": "code",
      "metadata": {
        "id": "LjtoSa17H0YK",
        "colab": {
          "base_uri": "https://localhost:8080/"
        },
        "outputId": "4122cebd-a6f7-4f02-837d-3d892cd7b0a3"
      },
      "source": [
        "np.sum(Q,axis=1)"
      ],
      "execution_count": null,
      "outputs": [
        {
          "output_type": "execute_result",
          "data": {
            "text/plain": [
              "array([15, 19])"
            ]
          },
          "metadata": {
            "tags": []
          },
          "execution_count": 26
        }
      ]
    },
    {
      "cell_type": "markdown",
      "metadata": {
        "id": "pUlvf2BN7v1X"
      },
      "source": [
        "# **Aljabar Linear Pada Python**"
      ]
    },
    {
      "cell_type": "markdown",
      "metadata": {
        "id": "A3NotyTtHUnU"
      },
      "source": [
        "Dalam modul numpy juga disediakan fungsi-fungsi Aljabar Linear untuk matriks.\n",
        "Beberapa konsep Aljabar Linear yang akan ditunjukkan di modul ini adalah\n",
        "* Determinan\n",
        "* Inverse\n",
        "* Nilai eigen\n",
        "* Vector eigen\n",
        "* Matriks identitas\n",
        "* Matriks satuan\n",
        "* Matriks nol\n",
        "* Matriks segitiga L dan U\n",
        "* Dekomposisi L U matriks"
      ]
    },
    {
      "cell_type": "code",
      "metadata": {
        "id": "KihkCBkq68PQ",
        "colab": {
          "base_uri": "https://localhost:8080/"
        },
        "outputId": "6c5e172d-4b77-48b0-926e-445466aa685c"
      },
      "source": [
        "A = np.array([[2,3,4],[7, 8, 9],[10, 7, 8]])\n",
        "A"
      ],
      "execution_count": null,
      "outputs": [
        {
          "output_type": "execute_result",
          "data": {
            "text/plain": [
              "array([[ 2,  3,  4],\n",
              "       [ 7,  8,  9],\n",
              "       [10,  7,  8]])"
            ]
          },
          "metadata": {
            "tags": []
          },
          "execution_count": 27
        }
      ]
    },
    {
      "cell_type": "code",
      "metadata": {
        "id": "Neo8JE_WcL6d",
        "colab": {
          "base_uri": "https://localhost:8080/"
        },
        "outputId": "dce2660b-bdc1-4b95-e400-ff8e4c338984"
      },
      "source": [
        "B = np.array([[5,7,4],[6, 8, 9],[1, 2, 6]])\n",
        "B"
      ],
      "execution_count": null,
      "outputs": [
        {
          "output_type": "execute_result",
          "data": {
            "text/plain": [
              "array([[5, 7, 4],\n",
              "       [6, 8, 9],\n",
              "       [1, 2, 6]])"
            ]
          },
          "metadata": {
            "tags": []
          },
          "execution_count": 28
        }
      ]
    },
    {
      "cell_type": "markdown",
      "metadata": {
        "id": "RIr84ePpcULq"
      },
      "source": [
        "**Determinan**\n"
      ]
    },
    {
      "cell_type": "code",
      "metadata": {
        "id": "iGngH0NmcSXp",
        "colab": {
          "base_uri": "https://localhost:8080/"
        },
        "outputId": "81ca0f7d-f70a-4556-a9af-8021fb0fea67"
      },
      "source": [
        "np.linalg.det(A)"
      ],
      "execution_count": null,
      "outputs": [
        {
          "output_type": "execute_result",
          "data": {
            "text/plain": [
              "-20.000000000000007"
            ]
          },
          "metadata": {
            "tags": []
          },
          "execution_count": 29
        }
      ]
    },
    {
      "cell_type": "markdown",
      "metadata": {
        "id": "y2L2FOe2dYEs"
      },
      "source": [
        "**Inverse Matriks**"
      ]
    },
    {
      "cell_type": "code",
      "metadata": {
        "id": "jDrWnut9dbUb",
        "colab": {
          "base_uri": "https://localhost:8080/"
        },
        "outputId": "bc552a4f-4569-4d8b-aa13-9925fbd5c7e4"
      },
      "source": [
        "np.linalg.inv(A)"
      ],
      "execution_count": null,
      "outputs": [
        {
          "output_type": "execute_result",
          "data": {
            "text/plain": [
              "array([[-0.05, -0.2 ,  0.25],\n",
              "       [-1.7 ,  1.2 , -0.5 ],\n",
              "       [ 1.55, -0.8 ,  0.25]])"
            ]
          },
          "metadata": {
            "tags": []
          },
          "execution_count": 30
        }
      ]
    },
    {
      "cell_type": "markdown",
      "metadata": {
        "id": "3X3b9_DTeH61"
      },
      "source": [
        "**Nilai Eigen dan Vector Eigen**"
      ]
    },
    {
      "cell_type": "code",
      "metadata": {
        "id": "rtIHiI-hdEP7",
        "colab": {
          "base_uri": "https://localhost:8080/"
        },
        "outputId": "ea572395-da0e-4bb8-9c45-c4ba98830736"
      },
      "source": [
        "eig, vec_eig = np.linalg.eig(A)\n",
        "print('Nilai eigen matriks A:')\n",
        "print(eig)\n",
        "print('Vektor eigen matriks A:')\n",
        "print(vec_eig)"
      ],
      "execution_count": null,
      "outputs": [
        {
          "output_type": "stream",
          "text": [
            "Nilai eigen matriks A:\n",
            "[19.39079317 -1.9262474   0.53545423]\n",
            "Vektor eigen matriks A:\n",
            "[[-0.27295093 -0.54761756  0.15754422]\n",
            " [-0.6940728  -0.31621014 -0.8168342 ]\n",
            " [-0.66615369  0.7746781   0.55494297]]\n"
          ],
          "name": "stdout"
        }
      ]
    },
    {
      "cell_type": "markdown",
      "metadata": {
        "id": "rPU_mawLeN-P"
      },
      "source": [
        "**Matriks Identitas**"
      ]
    },
    {
      "cell_type": "code",
      "metadata": {
        "id": "nf5RetybK8Sd",
        "colab": {
          "base_uri": "https://localhost:8080/"
        },
        "outputId": "84b2be63-b062-44ba-df38-3957c8964b78"
      },
      "source": [
        "Identitas=np.identity(5)\n",
        "print(Identitas)\n",
        "Identitas[:,3]"
      ],
      "execution_count": null,
      "outputs": [
        {
          "output_type": "stream",
          "text": [
            "[[1. 0. 0. 0. 0.]\n",
            " [0. 1. 0. 0. 0.]\n",
            " [0. 0. 1. 0. 0.]\n",
            " [0. 0. 0. 1. 0.]\n",
            " [0. 0. 0. 0. 1.]]\n"
          ],
          "name": "stdout"
        },
        {
          "output_type": "execute_result",
          "data": {
            "text/plain": [
              "array([0., 0., 0., 1., 0.])"
            ]
          },
          "metadata": {
            "tags": []
          },
          "execution_count": 32
        }
      ]
    },
    {
      "cell_type": "markdown",
      "metadata": {
        "id": "N1za6XhfLQuW"
      },
      "source": [
        "**Matriks Satuan**"
      ]
    },
    {
      "cell_type": "code",
      "metadata": {
        "id": "akDgElRqeRur",
        "colab": {
          "base_uri": "https://localhost:8080/"
        },
        "outputId": "834163f7-4972-4b7e-d5e1-fc7a5e703b2b"
      },
      "source": [
        "Satuan=np.ones((5,5))\n",
        "Satuan"
      ],
      "execution_count": null,
      "outputs": [
        {
          "output_type": "execute_result",
          "data": {
            "text/plain": [
              "array([[1., 1., 1., 1., 1.],\n",
              "       [1., 1., 1., 1., 1.],\n",
              "       [1., 1., 1., 1., 1.],\n",
              "       [1., 1., 1., 1., 1.],\n",
              "       [1., 1., 1., 1., 1.]])"
            ]
          },
          "metadata": {
            "tags": []
          },
          "execution_count": 33
        }
      ]
    },
    {
      "cell_type": "markdown",
      "metadata": {
        "id": "TemEJtdGLT_6"
      },
      "source": [
        "**Matriks Nol**"
      ]
    },
    {
      "cell_type": "code",
      "metadata": {
        "id": "I3z4M7VjLXG7",
        "colab": {
          "base_uri": "https://localhost:8080/"
        },
        "outputId": "fdecad30-04df-4638-8371-cbc5de9e9542"
      },
      "source": [
        "MatriksNol=np.zeros((3,6))\n",
        "MatriksNol"
      ],
      "execution_count": null,
      "outputs": [
        {
          "output_type": "execute_result",
          "data": {
            "text/plain": [
              "array([[0., 0., 0., 0., 0., 0.],\n",
              "       [0., 0., 0., 0., 0., 0.],\n",
              "       [0., 0., 0., 0., 0., 0.]])"
            ]
          },
          "metadata": {
            "tags": []
          },
          "execution_count": 34
        }
      ]
    },
    {
      "cell_type": "markdown",
      "metadata": {
        "id": "SkbcAlZMLpnt"
      },
      "source": [
        "**Matriks Segitiga Atas dan Bawah**"
      ]
    },
    {
      "cell_type": "code",
      "metadata": {
        "id": "g8j6_lblLtGh",
        "colab": {
          "base_uri": "https://localhost:8080/"
        },
        "outputId": "8615d762-3f9b-4bf1-ff16-7c1783e70331"
      },
      "source": [
        "Lower=np.tril([[1,2,3],[4,5,6],[7,8,9]], -1)\n",
        "Lower"
      ],
      "execution_count": null,
      "outputs": [
        {
          "output_type": "execute_result",
          "data": {
            "text/plain": [
              "array([[0, 0, 0],\n",
              "       [4, 0, 0],\n",
              "       [7, 8, 0]])"
            ]
          },
          "metadata": {
            "tags": []
          },
          "execution_count": 35
        }
      ]
    },
    {
      "cell_type": "code",
      "metadata": {
        "id": "H7VOyQu9LyIx",
        "colab": {
          "base_uri": "https://localhost:8080/"
        },
        "outputId": "2be3e681-3b44-4bd7-fb8f-77ba7d2c4db7"
      },
      "source": [
        "Upper=np.triu([[1,2,3],[4,5,6],[7,8,9]], 1)\n",
        "Upper"
      ],
      "execution_count": null,
      "outputs": [
        {
          "output_type": "execute_result",
          "data": {
            "text/plain": [
              "array([[0, 2, 3],\n",
              "       [0, 0, 6],\n",
              "       [0, 0, 0]])"
            ]
          },
          "metadata": {
            "tags": []
          },
          "execution_count": 36
        }
      ]
    },
    {
      "cell_type": "markdown",
      "metadata": {
        "id": "VZf6Qt8yQHZs"
      },
      "source": [
        "**Matriks Dekomposisi LU**"
      ]
    },
    {
      "cell_type": "code",
      "metadata": {
        "id": "0R3uE3MLQFQq",
        "colab": {
          "base_uri": "https://localhost:8080/"
        },
        "outputId": "6e437702-5898-4744-ed3f-a81eff0b71d5"
      },
      "source": [
        "import numpy as np\n",
        "import scipy.linalg as la\n",
        "np.set_printoptions(suppress=True)\n",
        "\n",
        "P, L, U = la.lu(A)\n",
        "print(P)\n",
        "\n",
        "print(L)\n",
        "\n",
        "print(U)"
      ],
      "execution_count": null,
      "outputs": [
        {
          "output_type": "stream",
          "text": [
            "[[0. 0. 1.]\n",
            " [0. 1. 0.]\n",
            " [1. 0. 0.]]\n",
            "[[1.         0.         0.        ]\n",
            " [0.7        1.         0.        ]\n",
            " [0.2        0.51612903 1.        ]]\n",
            "[[10.          7.          8.        ]\n",
            " [ 0.          3.1         3.4       ]\n",
            " [ 0.          0.          0.64516129]]\n"
          ],
          "name": "stdout"
        }
      ]
    },
    {
      "cell_type": "markdown",
      "metadata": {
        "id": "Xr2lxk38N0Dq"
      },
      "source": [
        "# **Membangun Matriks Menggunakan Perulangan**"
      ]
    },
    {
      "cell_type": "code",
      "metadata": {
        "id": "rP1YAVs_f4zp",
        "colab": {
          "base_uri": "https://localhost:8080/"
        },
        "outputId": "248a74eb-d9a9-4c3a-8014-bc5f28b73ad2"
      },
      "source": [
        "C = np.arange(0,10,1)\n",
        "L = []\n",
        "print(L)\n",
        "print(C)\n",
        "for i in C:\n",
        "  L.append(i**2)\n",
        "\n",
        "L"
      ],
      "execution_count": null,
      "outputs": [
        {
          "output_type": "stream",
          "text": [
            "[]\n",
            "[0 1 2 3 4 5 6 7 8 9]\n"
          ],
          "name": "stdout"
        },
        {
          "output_type": "execute_result",
          "data": {
            "text/plain": [
              "[0, 1, 4, 9, 16, 25, 36, 49, 64, 81]"
            ]
          },
          "metadata": {
            "tags": []
          },
          "execution_count": 38
        }
      ]
    },
    {
      "cell_type": "code",
      "metadata": {
        "id": "LTHoQPgijfR9",
        "colab": {
          "base_uri": "https://localhost:8080/"
        },
        "outputId": "f25d8104-12b4-4750-be6c-a8bd5ec8cb4d"
      },
      "source": [
        "arr = []\n",
        "\n",
        "A=np.zeros([3,4])\n",
        "baris, kolom = np.shape(A)\n",
        "print(baris)\n",
        "print(kolom)\n",
        "print(A)\n",
        "arr=[]\n",
        "for i in range(baris):\n",
        "    arr.append([])\n",
        "    for j in range(kolom):\n",
        "        arr[i].append((i+j)*2)\n",
        "\n",
        "print(np.array(arr))"
      ],
      "execution_count": null,
      "outputs": [
        {
          "output_type": "stream",
          "text": [
            "3\n",
            "4\n",
            "[[0. 0. 0. 0.]\n",
            " [0. 0. 0. 0.]\n",
            " [0. 0. 0. 0.]]\n",
            "[[ 0  2  4  6]\n",
            " [ 2  4  6  8]\n",
            " [ 4  6  8 10]]\n"
          ],
          "name": "stdout"
        }
      ]
    }
  ]
}