{
  "nbformat": 4,
  "nbformat_minor": 0,
  "metadata": {
    "colab": {
      "name": "Last Project B Volume Silinder dan Kerucut.ipynb",
      "provenance": [],
      "collapsed_sections": [],
      "include_colab_link": true
    },
    "kernelspec": {
      "name": "python3",
      "display_name": "Python 3"
    }
  },
  "cells": [
    {
      "cell_type": "markdown",
      "metadata": {
        "id": "view-in-github",
        "colab_type": "text"
      },
      "source": [
        "<a href=\"https://colab.research.google.com/github/hasanasyarie/Pusat-Studi-Data-Sains/blob/main/Last_Project_B_Volume_Silinder_dan_Kerucut.ipynb\" target=\"_parent\"><img src=\"https://colab.research.google.com/assets/colab-badge.svg\" alt=\"Open In Colab\"/></a>"
      ]
    },
    {
      "cell_type": "markdown",
      "metadata": {
        "id": "j3_R4fcGgbaz"
      },
      "source": [
        "##**Volume Silinder dan Kerucut**"
      ]
    },
    {
      "cell_type": "code",
      "metadata": {
        "id": "n1ozCWkgVIL9"
      },
      "source": [
        "import math\r\n",
        "def volume_silinder(r1, t1):\r\n",
        "  R1 = float(r1)\r\n",
        "  T1 = float(t1)\r\n",
        "  # v = L alas x Tinggi\r\n",
        "  volume = math.pi*(R1**2)*T1\r\n",
        "  return volume\r\n",
        "\r\n",
        "def volume_kerucut(r2, t2):\r\n",
        "  R2 = float(r2)\r\n",
        "  T2 = float(t2)\r\n",
        "  # v = 1/3 x L alas x Tinggi\r\n",
        "  Volume = (1/3*(math.pi)*(R2**2))*T2\r\n",
        "  return Volume\r\n",
        "  \r\n",
        "def volume_silinder_kerucut(r1,t1,r2,t2):\r\n",
        "  Vs = volume_silinder(r1,t1)\r\n",
        "  Vk = volume_kerucut(r2,t2)\r\n",
        "  Volume_akhir = Vs+Vk\r\n",
        "  return Volume_akhir"
      ],
      "execution_count": 37,
      "outputs": []
    }
  ]
}